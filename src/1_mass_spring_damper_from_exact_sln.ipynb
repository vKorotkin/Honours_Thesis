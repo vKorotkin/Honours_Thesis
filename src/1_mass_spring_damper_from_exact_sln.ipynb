{
 "cells": [
  {
   "cell_type": "code",
   "execution_count": 1,
   "metadata": {},
   "outputs": [],
   "source": [
    "import sympy #symbolic python library\n",
    "from sympy.utilities.lambdify import lambdify #translate symbolic sympy to python commands \n",
    "from sympy import init_printing\n",
    "init_printing(use_latex=True) \n",
    "\n",
    "import matplotlib.pyplot as plt\n",
    "import autograd.numpy as np\n",
    "import autograd.numpy.random as npr\n",
    "from autograd import grad, jacobian\n",
    "from autograd.misc.optimizers import adam\n",
    "from functools import reduce\n",
    "\n",
    "from reusable_functions import init_random_params, neural_net_predict, modded_basinhopping"
   ]
  },
  {
   "cell_type": "code",
   "execution_count": 2,
   "metadata": {},
   "outputs": [
    {
     "ename": "SyntaxError",
     "evalue": "invalid syntax (<ipython-input-2-7b69dbb7827d>, line 22)",
     "output_type": "error",
     "traceback": [
      "\u001b[0;36m  File \u001b[0;32m\"<ipython-input-2-7b69dbb7827d>\"\u001b[0;36m, line \u001b[0;32m22\u001b[0m\n\u001b[0;31m    forcing_fn = lambda x: 0.\u001b[0m\n\u001b[0m             ^\u001b[0m\n\u001b[0;31mSyntaxError\u001b[0m\u001b[0;31m:\u001b[0m invalid syntax\n"
     ]
    }
   ],
   "source": [
    "#Problem Setup: \n",
    "#Make sure the exact solution has BCs that are compatible with G and D below. \n",
    "#Make sure the residual and forcing functions correspond to your ODE.\n",
    "x=sympy.symbols('x')\n",
    "\n",
    "u=sympy.cos(x)\n",
    "uprime=u.diff(x)\n",
    "udprime=uprime.diff(x)\n",
    "forcing_fn_symbolic=udprime+u\n",
    "#udprime #uncomment for latex print udprime expression\n",
    "\n",
    "forcing_fn = lambdify((x), forcing_fn_symbolic) #transform symbolic expression into python function\n",
    "u_exact=lambdify((x), u)\n",
    "layer_sizes=[1,10,10,1]\n",
    "nx=100\n",
    "G=lambda x:1. #to satisfy BCs\n",
    "D=lambda x:x**2 #distance function\n",
    "\n",
    "x_space = np.linspace(0, 10#Problem Setup: \n",
    "#Make sure the residual and forcing functions correspond to your ODE.\n",
    "\n",
    "forcing_fn = lambda x: 0.\n",
    "layer_sizes=[1,10,10,1]\n",
    "nx=100\n",
    "G=lambda x:x , nx)\n",
    "def u(params, x):\n",
    "    return G(x)+D(x)*neural_net_predict(params, x)\n",
    "\n",
    "\n",
    "du=grad(u,1)\n",
    "du2=grad(du,1)\n",
    "\n",
    "def resid(params, x): \n",
    "    return np.square(du2(params,x)+u(params,x)-forcing_fn(x))"
   ]
  },
  {
   "cell_type": "code",
   "execution_count": null,
   "metadata": {},
   "outputs": [],
   "source": [
    "def resid_batch(params, x_batch):\n",
    "    resid_temp=list(map(lambda x: resid(params, x)**2, x_batch))\n",
    "    resid_sum=reduce(lambda x,y:x+y, resid_temp)\n",
    "    return resid_sum/len(x_batch)  \n",
    "def loss_function(params):\n",
    "    return resid_batch(params, x_space)\n",
    "\n",
    "loss_grad=grad(loss_function)\n",
    "\n",
    "x0=init_random_params(1, layer_sizes)\n",
    "optimized_params, fun=modded_basinhopping(loss_function, loss_grad,x0, num_iter=0, max_bfgs_iter=100)"
   ]
  },
  {
   "cell_type": "code",
   "execution_count": null,
   "metadata": {},
   "outputs": [],
   "source": [
    "plt.figure\n",
    "plt.clf()\n",
    "ax=plt.gca()\n",
    "\n",
    "sln = np.zeros(nx)\n",
    "\n",
    "for i,x in enumerate(x_space):\n",
    "    sln[i]=u_exact(x)\n",
    "\n",
    "plt.plot(x_space, sln,label='exact', marker=3)\n",
    "\n",
    "for i,x in enumerate(x_space):\n",
    "    sln[i]=u(optimized_params, x)\n",
    "\n",
    "plt.plot(x_space, sln, label='net', marker='2')\n",
    "plt.title(\"Exact vs Net\")\n",
    "ax.legend()\n",
    "\n",
    "plt.figure()\n",
    "err=np.zeros(np.size(x_space))\n",
    "for i, x in enumerate(x_space):\n",
    "    err[i]=u(optimized_params, x)-u_exact(x)\n",
    "    \n",
    "plt.figure()\n",
    "pde_err=np.zeros(x_space.shape)\n",
    "for i, x in enumerate(x_space):\n",
    "    pde_err[i]=resid(optimized_params, x)\n",
    "\n",
    "plt.plot(x_space, pde_err, label='error')\n",
    "plt.title('PDE residual')\n",
    "\n",
    "pos=np.zeros(x_space.shape)\n",
    "vel=np.zeros(x_space.shape)\n",
    "\n",
    "plt.figure()\n",
    "for i, x in enumerate(x_space):\n",
    "    pos[i]=u(optimized_params, x)\n",
    "    vel[i]=du(optimized_params, x)\n",
    "plt.plot(pos, vel, label='phase plot')\n",
    "plt.title('phase portrait')\n",
    "\n",
    "\n"
   ]
  }
 ],
 "metadata": {
  "kernelspec": {
   "display_name": "Python 3",
   "language": "python",
   "name": "python3"
  },
  "language_info": {
   "codemirror_mode": {
    "name": "ipython",
    "version": 3
   },
   "file_extension": ".py",
   "mimetype": "text/x-python",
   "name": "python",
   "nbconvert_exporter": "python",
   "pygments_lexer": "ipython3",
   "version": "3.7.0"
  }
 },
 "nbformat": 4,
 "nbformat_minor": 2
}
